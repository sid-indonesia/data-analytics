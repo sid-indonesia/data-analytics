{
 "cells": [
  {
   "cell_type": "code",
   "execution_count": 1,
   "metadata": {},
   "outputs": [],
   "source": [
    "import pandas as pd\n",
    "from fuzzywuzzy import fuzz, process"
   ]
  },
  {
   "cell_type": "code",
   "execution_count": 2,
   "metadata": {},
   "outputs": [],
   "source": [
    "phii = pd.read_excel(r'G:/My Drive/Spatial data/DED/Klaster PHII.xlsx')\n",
    "\n",
    "geom = pd.read_csv(r'G:/My Drive/Spatial data/Superset/geom_desa_garut_20240610.csv')\n",
    "adm = pd.read_excel(r'G:/My Drive/Spatial data/Nama Lokasi/Garut - Daerah Administratif.xlsx')\n",
    "phii = phii[phii['Kabupaten']=='GARUT']\n",
    "\n",
    "# geom = pd.read_csv(r'G:/My Drive/Spatial data/Superset/geom_desa_badung_20240610.csv')\n",
    "# adm = pd.read_excel(r'G:/My Drive/Spatial data/Nama Lokasi/Badung - Daerah Administratif.xlsx')\n",
    "# phii = phii[phii['Kabupaten']=='BADUNG']"
   ]
  },
  {
   "cell_type": "code",
   "execution_count": 3,
   "metadata": {},
   "outputs": [],
   "source": [
    "def fuzzy_match(row, choices, scorer=fuzz.ratio, cutoff=0):\n",
    "    \"\"\"\n",
    "    Perform fuzzy matching on the row and return the best match and its score.\n",
    "    \n",
    "    :param row: The row to match\n",
    "    :param choices: List of choices to match against\n",
    "    :param scorer: Scoring function from fuzzywuzzy\n",
    "    :param cutoff: Minimum score to be considered a match\n",
    "    :return: Best match and its score\n",
    "    \"\"\"\n",
    "    match, score = process.extractOne(row, choices, scorer=scorer, score_cutoff=cutoff)\n",
    "    return pd.Series([match, score])"
   ]
  },
  {
   "cell_type": "code",
   "execution_count": 4,
   "metadata": {},
   "outputs": [],
   "source": [
    "# Convert the 'ID_fasilitas_kesehatan' column in the 'phii' DataFrame to string type,\n",
    "# split the string on '.' and take the first part of the split result.\n",
    "phii['ID_fasilitas_kesehatan'] = phii['ID_fasilitas_kesehatan'].astype(str).str.split('.').str[0]\n",
    "\n",
    "# Remove the substring 'PUSKESMAS' from the 'nama_fasilitas_kesehatan' column in 'phii' DataFrame\n",
    "# and strip any leading or trailing whitespace.\n",
    "phii['nama_fasilitas_kesehatan'] = phii['nama_fasilitas_kesehatan'].str.replace('PUSKESMAS', '', regex=False).str.strip()\n",
    "\n",
    "# Select the 'Desa/Village', 'Puskesmas', and 'Kecamatan/District' columns from the 'adm' DataFrame\n",
    "# and drop any rows with missing values.\n",
    "adm = adm[['Desa/Village', 'Puskesmas', 'Kecamatan/District']].dropna()\n",
    "\n",
    "# Apply a fuzzy matching function to 'nama_fasilitas_kesehatan' in 'phii' to match with 'Puskesmas' in 'adm',\n",
    "# storing the best match and the matching score.\n",
    "phii[['best_match', 'score']] = phii['nama_fasilitas_kesehatan'].apply(fuzzy_match, choices=adm['Puskesmas'].unique())\n",
    "\n",
    "# Filter 'phii' to keep only the rows with a matching score of 90 or higher,\n",
    "# then merge with 'adm' on the matched 'Puskesmas' name.\n",
    "phii_select = phii[phii['score'] >= 90].merge(adm, left_on='best_match', right_on='Puskesmas')\n",
    "\n",
    "# Create a new 'id' column in 'phii_select' by concatenating 'Kecamatan/District' and 'Desa/Village'.\n",
    "phii_select['id'] = phii_select['Kecamatan/District'] + ' ' + phii_select['Desa/Village']\n",
    "\n",
    "# Replace underscores with spaces in the 'NAMOBJ' column of 'geom' to create an 'id' column.\n",
    "geom['id'] = geom['NAMOBJ'].str.replace('_', ' ')\n",
    "\n",
    "# Apply a fuzzy matching function to 'id' in 'phii_select' to match with 'id' in 'geom',\n",
    "# storing the best match and the matching score.\n",
    "phii_select[['best_match', 'score']] = phii_select['id'].apply(fuzzy_match, choices=geom['id'].unique())\n",
    "\n",
    "# Sort 'phii_select' by matching score, dropping duplicates based on 'best_match' and keeping the last occurrence.\n",
    "phii_select = phii_select.sort_values('score').drop_duplicates('best_match', keep='last')\n",
    "\n",
    "# Merge 'geom' with the relevant columns from 'phii_select' based on the 'id' in 'geom' and 'best_match' in 'phii_select'.\n",
    "geom_phii = geom.merge(phii_select[['ID_fasilitas_kesehatan', 'nama_fasilitas_kesehatan', 'CLUSTER', 'best_match']], \n",
    "                       how='left', left_on='id', right_on='best_match')\n",
    "\n",
    "# Select and reorder the columns in the 'geom_phii' DataFrame.\n",
    "geom_phii = geom_phii[['NAMOBJ', 'WADMKD', 'WADMKC', 'WADMKK', 'ID_fasilitas_kesehatan', 'nama_fasilitas_kesehatan', 'CLUSTER', 'geometry']]\n",
    "\n",
    "# Fill any missing values in the 'CLUSTER' column of 'geom_phii' with 0.\n",
    "geom_phii['CLUSTER'] = geom_phii['CLUSTER'].fillna(0)"
   ]
  }
 ],
 "metadata": {
  "kernelspec": {
   "display_name": "SID_Najmi",
   "language": "python",
   "name": "python3"
  },
  "language_info": {
   "codemirror_mode": {
    "name": "ipython",
    "version": 3
   },
   "file_extension": ".py",
   "mimetype": "text/x-python",
   "name": "python",
   "nbconvert_exporter": "python",
   "pygments_lexer": "ipython3",
   "version": "3.9.13"
  }
 },
 "nbformat": 4,
 "nbformat_minor": 2
}
