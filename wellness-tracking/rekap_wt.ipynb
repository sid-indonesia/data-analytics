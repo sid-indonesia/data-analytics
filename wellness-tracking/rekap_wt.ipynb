{
 "cells": [
  {
   "cell_type": "code",
   "execution_count": 1,
   "metadata": {},
   "outputs": [],
   "source": [
    "import pandas as pd\n",
    "import warnings\n",
    "\n",
    "warnings.filterwarnings('ignore')"
   ]
  },
  {
   "cell_type": "code",
   "execution_count": 2,
   "metadata": {},
   "outputs": [],
   "source": [
    "start_date = '2024-04-17' # match this with filename\n",
    "end_date = '2024-04-17' # match this with filename\n",
    "wt = pd.read_csv(f'G:/My Drive/NextGen/chat_history/chat_history_{start_date}_{end_date}.csv')"
   ]
  },
  {
   "cell_type": "code",
   "execution_count": 3,
   "metadata": {},
   "outputs": [],
   "source": [
    "# dataframe cleaning\n",
    "wt['created_at'] = wt['created_at'].apply(pd.to_datetime).dt.tz_localize(None)\n",
    "wt.dropna(subset='text_messages', inplace=True)\n",
    "wt.sort_values(['room_id', 'created_at'], inplace=True)\n",
    "wt.reset_index(drop=True, inplace=True)\n",
    "\n",
    "# save clean dataframe\n",
    "# wt.to_excel(f'G:/My Drive/NextGen/wt_recap/chat history {start_date} to {end_date}.xlsx', index=False)"
   ]
  },
  {
   "cell_type": "code",
   "execution_count": 5,
   "metadata": {},
   "outputs": [],
   "source": [
    "# Header mapping dict\n",
    "daftar_gejala = {'Pemantauan Kesehatan Kehamilan':'[NextGen] pesan awal', 'Pemantauan Kesehatan Pasca Vaksinasi':'[PregVax] pesan awal',\n",
    "                 'Gejala 1':'mual dan/atau muntah', 'Gejala 2':'tubuh lemas dan/atau mudah lelah', 'Gejala 3':'perut kram',\n",
    "                 'Gejala 4':'sakit kepala', 'Gejala 5':'sesak napas', 'Gejala lain':'[NextGen] gejala lain / [PregVax] gejala',\n",
    "                 'Seberapa parah':'tingkat keparahan', 'Tes PCR atau Antigen?':'tes COVID-19',\n",
    "                 'pengobatan':'pengobatan'}\n",
    "\n",
    "# Initialize an empty DataFrame to store processed customer responses\n",
    "wt_repl = pd.DataFrame()\n",
    "\n",
    "# Iterate through each symptom in the dictionary 'daftar_gejala'\n",
    "for gejala in list(daftar_gejala.keys()):\n",
    "    # Iterate through unique room IDs\n",
    "    for room in wt['room_id'].unique():\n",
    "        # Find messages sent by the system containing the current symptom and extract subsequent customer responses\n",
    "        repl = wt[wt['room_id'] == room][['room_id', 'sender_type', 'text_messages']].shift(-1)[(wt['sender_type']=='system') & (wt['text_messages'].str.contains(gejala))].rename(columns={'text_messages':daftar_gejala[gejala]})\n",
    "        # Store the customer responses in the DataFrame\n",
    "        wt_repl = pd.concat([wt_repl, repl[repl['sender_type']=='customer']])\n",
    "                \n",
    "# Calculate the mode (most frequent) response for each room\n",
    "wt_repl = wt_repl.drop(columns='sender_type').groupby('room_id', as_index=False).apply(lambda group: group.mode().iloc[0])\n",
    "# Merge the processed DataFrame with room and customer information\n",
    "wt_repl = wt[['room_id', 'customer_id', 'customer_name']].dropna().drop_duplicates().merge(wt_repl, how='left', on='room_id')"
   ]
  },
  {
   "cell_type": "code",
   "execution_count": 6,
   "metadata": {},
   "outputs": [],
   "source": [
    "# save processed dataframe\n",
    "wt_repl.to_excel(f'G:/My Drive/NextGen/wt_recap/wellness tracking {start_date} to {end_date}.xlsx', index=False)"
   ]
  }
 ],
 "metadata": {
  "kernelspec": {
   "display_name": "SID_Najmi",
   "language": "python",
   "name": "python3"
  },
  "language_info": {
   "codemirror_mode": {
    "name": "ipython",
    "version": 3
   },
   "file_extension": ".py",
   "mimetype": "text/x-python",
   "name": "python",
   "nbconvert_exporter": "python",
   "pygments_lexer": "ipython3",
   "version": "3.9.13"
  }
 },
 "nbformat": 4,
 "nbformat_minor": 2
}
